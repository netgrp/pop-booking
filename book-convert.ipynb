{
 "cells": [
  {
   "cell_type": "code",
   "execution_count": 33,
   "metadata": {},
   "outputs": [],
   "source": [
    "import sqlite3\n",
    "import json\n",
    "import datetime\n",
    "import random\n",
    "con = sqlite3.connect('bookings.db')"
   ]
  },
  {
   "cell_type": "code",
   "execution_count": 34,
   "metadata": {},
   "outputs": [
    {
     "name": "stdout",
     "output_type": "stream",
     "text": [
      "{\"1012106647\": {\"user\": {\"username\": \"andreasvindjensen@gmail.com\", \"room\": \"194\"}, \"resource_name\": \"meetingroom\", \"times\": [\"2024-01-08T16:30:00Z\", \"2024-01-08T20:00:00Z\"]}, \"3639202396\": {\"user\": {\"username\": \"tomyat@hotmail.com\", \"room\": \"287\"}, \"resource_name\": \"sauna\", \"times\": [\"2024-01-01T18:00:00Z\", \"2024-01-01T20:00:00Z\"]}, \"88222518\": {\"user\": {\"username\": \"camillebrorsen@gmail.com\", \"room\": \"118\"}, \"resource_name\": \"hottub\", \"times\": [\"2024-01-01T10:00:00Z\", \"2024-01-01T12:00:00Z\"]}, \"3355076006\": {\"user\": {\"username\": \"camillebrorsen@gmail.com\", \"room\": \"118\"}, \"resource_name\": \"hottub\", \"times\": [\"2024-01-01T12:00:00Z\", \"2024-01-01T14:00:00Z\"]}, \"4012956262\": {\"user\": {\"username\": \"camillebrorsen@gmail.com\", \"room\": \"118\"}, \"resource_name\": \"sauna\", \"times\": [\"2024-01-01T12:00:00Z\", \"2024-01-01T14:00:00Z\"]}, \"1904087158\": {\"user\": {\"username\": \"camillebrorsen@gmail.com\", \"room\": \"118\"}, \"resource_name\": \"hottub\", \"times\": [\"2024-01-01T14:00:00Z\", \"2024-01-01T16:00:00Z\"]}, \"2807672220\": {\"user\": {\"username\": \"camillebrorsen@gmail.com\", \"room\": \"118\"}, \"resource_name\": \"sauna\", \"times\": [\"2024-01-01T14:00:00Z\", \"2024-01-01T16:00:00Z\"]}, \"478098344\": {\"user\": {\"username\": \"camillebrorsen@gmail.com\", \"room\": \"118\"}, \"resource_name\": \"sauna\", \"times\": [\"2024-01-01T16:00:00Z\", \"2024-01-01T18:00:00Z\"]}, \"2115560932\": {\"user\": {\"username\": \"emil073\", \"room\": \"73\"}, \"resource_name\": \"meetingroom\", \"times\": [\"2024-01-20T10:00:00Z\", \"2024-01-20T16:00:00Z\"]}, \"4263277577\": {\"user\": {\"username\": \"emil073\", \"room\": \"73\"}, \"resource_name\": \"meetingroom\", \"times\": [\"2024-01-20T17:00:00Z\", \"2024-01-20T20:00:00Z\"]}, \"3788346824\": {\"user\": {\"username\": \"osman02@gmail.com\", \"room\": \"258\"}, \"resource_name\": \"hottub\", \"times\": [\"2024-01-07T18:00:00Z\", \"2024-01-07T20:00:00Z\"]}, \"1495351367\": {\"user\": {\"username\": \"osman02@gmail.com\", \"room\": \"258\"}, \"resource_name\": \"sauna\", \"times\": [\"2024-01-07T18:00:00Z\", \"2024-01-07T20:00:00Z\"]}, \"2567893760\": {\"user\": {\"username\": \"bjarke.j.k@gmail.com\", \"room\": \"168\"}, \"resource_name\": \"sauna\", \"times\": [\"2024-01-08T19:00:00Z\", \"2024-01-08T20:00:00Z\"]}, \"499223294\": {\"user\": {\"username\": \"bjarke.j.k@gmail.com\", \"room\": \"168\"}, \"resource_name\": \"hottub\", \"times\": [\"2024-01-08T19:00:00Z\", \"2024-01-08T20:00:00Z\"]}, \"421970637\": {\"user\": {\"username\": \"michelchristensen@outlook.dk\", \"room\": \"153\"}, \"resource_name\": \"sauna\", \"times\": [\"2024-01-27T15:00:00Z\", \"2024-01-27T17:00:00Z\"]}, \"3906336090\": {\"user\": {\"username\": \"michelchristensen@outlook.dk\", \"room\": \"153\"}, \"resource_name\": \"hottub\", \"times\": [\"2024-01-27T15:00:00Z\", \"2024-01-27T17:00:00Z\"]}, \"194410442\": {\"user\": {\"username\": \"michelchristensen@outlook.dk\", \"room\": \"153\"}, \"resource_name\": \"hottub\", \"times\": [\"2024-01-27T17:00:00Z\", \"2024-01-27T19:00:00Z\"]}, \"915572551\": {\"user\": {\"username\": \"michelchristensen@outlook.dk\", \"room\": \"153\"}, \"resource_name\": \"sauna\", \"times\": [\"2024-01-27T17:00:00Z\", \"2024-01-27T19:00:00Z\"]}, \"471956938\": {\"user\": {\"username\": \"michelchristensen@outlook.dk\", \"room\": \"153\"}, \"resource_name\": \"hottub\", \"times\": [\"2024-01-27T19:00:00Z\", \"2024-01-27T20:00:00Z\"]}, \"2334626287\": {\"user\": {\"username\": \"michelchristensen@outlook.dk\", \"room\": \"153\"}, \"resource_name\": \"sauna\", \"times\": [\"2024-01-27T19:00:00Z\", \"2024-01-27T20:00:00Z\"]}, \"1745125232\": {\"user\": {\"username\": \"tomyat@hotmail.com\", \"room\": \"287\"}, \"resource_name\": \"sauna\", \"times\": [\"2024-01-09T17:00:00Z\", \"2024-01-09T19:00:00Z\"]}, \"2847792156\": {\"user\": {\"username\": \"bjarke.j.k@gmail.com\", \"room\": \"168\"}, \"resource_name\": \"sauna\", \"times\": [\"2024-01-14T18:30:00Z\", \"2024-01-14T20:00:00Z\"]}, \"4128120513\": {\"user\": {\"username\": \"sorenn.dk@gmail.com\", \"room\": \"108\"}, \"resource_name\": \"hottub\", \"times\": [\"2024-01-14T16:00:00Z\", \"2024-01-14T18:00:00Z\"]}, \"3322548189\": {\"user\": {\"username\": \"sorenn.dk@gmail.com\", \"room\": \"108\"}, \"resource_name\": \"sauna\", \"times\": [\"2024-01-14T16:00:00Z\", \"2024-01-14T18:00:00Z\"]}, \"1771371455\": {\"user\": {\"username\": \"sorenn.dk@gmail.com\", \"room\": \"108\"}, \"resource_name\": \"hottub\", \"times\": [\"2024-01-14T14:00:00Z\", \"2024-01-14T16:00:00Z\"]}, \"2586353113\": {\"user\": {\"username\": \"sorenn.dk@gmail.com\", \"room\": \"108\"}, \"resource_name\": \"sauna\", \"times\": [\"2024-01-14T14:00:00Z\", \"2024-01-14T16:00:00Z\"]}, \"3080884318\": {\"user\": {\"username\": \"Alexanderguldager@hotmail.com\", \"room\": \"27\"}, \"resource_name\": \"meetingroom\", \"times\": [\"2024-01-16T11:00:00Z\", \"2024-01-16T15:00:00Z\"]}, \"152992742\": {\"user\": {\"username\": \"andreasvindjensen@gmail.com\", \"room\": \"194\"}, \"resource_name\": \"meetingroom\", \"times\": [\"2024-01-16T18:00:00Z\", \"2024-01-16T20:00:00Z\"]}, \"1313989863\": {\"user\": {\"username\": \"bjarke.j.k@gmail.com\", \"room\": \"168\"}, \"resource_name\": \"sauna\", \"times\": [\"2024-01-15T19:00:00Z\", \"2024-01-15T20:00:00Z\"]}, \"1966505209\": {\"user\": {\"username\": \"bjarke.j.k@gmail.com\", \"room\": \"168\"}, \"resource_name\": \"hottub\", \"times\": [\"2024-01-15T19:00:00Z\", \"2024-01-15T20:00:00Z\"]}, \"3129913721\": {\"user\": {\"username\": \"bjarke.j.k@gmail.com\", \"room\": \"168\"}, \"resource_name\": \"sauna\", \"times\": [\"2024-01-29T19:00:00Z\", \"2024-01-29T20:00:00Z\"]}, \"1509105929\": {\"user\": {\"username\": \"bjarke.j.k@gmail.com\", \"room\": \"168\"}, \"resource_name\": \"hottub\", \"times\": [\"2024-01-29T19:00:00Z\", \"2024-01-29T20:00:00Z\"]}, \"844293919\": {\"user\": {\"username\": \"bjarke.j.k@gmail.com\", \"room\": \"168\"}, \"resource_name\": \"sauna\", \"times\": [\"2024-02-05T19:00:00Z\", \"2024-02-05T20:00:00Z\"]}, \"3477003167\": {\"user\": {\"username\": \"bjarke.j.k@gmail.com\", \"room\": \"168\"}, \"resource_name\": \"hottub\", \"times\": [\"2024-02-05T19:00:00Z\", \"2024-02-05T20:00:00Z\"]}, \"2989332640\": {\"user\": {\"username\": \"Alexanderguldager@hotmail.com\", \"room\": \"27\"}, \"resource_name\": \"meetingroom\", \"times\": [\"2024-01-17T11:00:00Z\", \"2024-01-17T15:00:00Z\"]}, \"1488625739\": {\"user\": {\"username\": \"tomyat@hotmail.com\", \"room\": \"287\"}, \"resource_name\": \"sauna\", \"times\": [\"2024-01-27T09:00:00Z\", \"2024-01-27T11:00:00Z\"]}, \"1966812156\": {\"user\": {\"username\": \"tomyat@hotmail.com\", \"room\": \"287\"}, \"resource_name\": \"sauna\", \"times\": [\"2024-01-27T11:00:00Z\", \"2024-01-27T13:00:00Z\"]}, \"1665265362\": {\"user\": {\"username\": \"tomyat@hotmail.com\", \"room\": \"287\"}, \"resource_name\": \"sauna\", \"times\": [\"2024-01-18T18:00:00Z\", \"2024-01-18T20:00:00Z\"]}, \"3870956628\": {\"user\": {\"username\": \"Alexanderguldager@hotmail.com\", \"room\": \"27\"}, \"resource_name\": \"hottub\", \"times\": [\"2024-01-20T13:00:00Z\", \"2024-01-20T15:00:00Z\"]}, \"1969879547\": {\"user\": {\"username\": \"Tobias0802@gmail.com\", \"room\": \"35\"}, \"resource_name\": \"hottub\", \"times\": [\"2024-01-20T15:00:00Z\", \"2024-01-20T17:00:00Z\"]}, \"1130975774\": {\"user\": {\"username\": \"tomyat@hotmail.com\", \"room\": \"287\"}, \"resource_name\": \"sauna\", \"times\": [\"2024-01-21T14:30:00Z\", \"2024-01-21T16:30:00Z\"]}, \"3661800012\": {\"user\": {\"username\": \"emil073\", \"room\": \"73\"}, \"resource_name\": \"meetingroom\", \"times\": [\"2024-02-17T10:00:00Z\", \"2024-02-17T16:00:00Z\"]}, \"1388338564\": {\"user\": {\"username\": \"emil073\", \"room\": \"73\"}, \"resource_name\": \"meetingroom\", \"times\": [\"2024-02-17T17:00:00Z\", \"2024-02-17T20:00:00Z\"]}}\n"
     ]
    }
   ],
   "source": [
    "name_dict = {\n",
    "    1 : \"canoe1\",\n",
    "    2 : \"canoe2\",\n",
    "    3 : \"canoe3\",\n",
    "    4 : \"canoe4\",\n",
    "    5 : \"kayak1\",\n",
    "    6 : \"kayak2\",\n",
    "    7 : \"kayak3\",\n",
    "    8 : \"kayak4\",\n",
    "    9 : \"meetingroom\",\n",
    "    10 : \"sup1\",\n",
    "    11 : \"sup2\",\n",
    "    12 : \"hottub\",\n",
    "    13 : \"sauna\",\n",
    "    14 : \"extraseatcanoe1\",\n",
    "    15 : \"extraseatcanoe2\",\n",
    "    16 : \"extraseatcanoe3\",\n",
    "    17 : \"extraseatcanoe4\",\n",
    "}\n",
    "res = con.execute('''\n",
    "SELECT dateFrom, dateTo, username, bookableItem_id, roomNo\n",
    "FROM bookings \n",
    "INNER JOIN pop_users ON bookings.booker_id = pop_users.id\n",
    "WHERE dateFrom > '2024-01-01'\n",
    "''')\n",
    "\n",
    "dict_dump = {}\n",
    "for row in res:\n",
    "    id = random.randint(0, 2**32)\n",
    "    dict_dump[id] = {\n",
    "        \"user\": {\n",
    "            \"username\": row[2],\n",
    "            \"room\": int(row[4].split(\" \")[2])\n",
    "        },\n",
    "        \"resource_name\": name_dict[row[3]],\n",
    "        \"times\": [\n",
    "            datetime.datetime.strptime(row[0], '%Y-%m-%d %H:%M:%S').strftime('%Y-%m-%dT%H:%M:%SZ'),\n",
    "            datetime.datetime.strptime(row[1], '%Y-%m-%d %H:%M:%S').strftime('%Y-%m-%dT%H:%M:%SZ')\n",
    "        ]\n",
    "    }\n",
    "json = json.dumps(dict_dump)\n"
   ]
  },
  {
   "cell_type": "code",
   "execution_count": 35,
   "metadata": {},
   "outputs": [],
   "source": [
    "with open('bookings.json', 'w') as f:\n",
    "    f.write(json)\n",
    "    "
   ]
  },
  {
   "cell_type": "code",
   "execution_count": null,
   "metadata": {},
   "outputs": [],
   "source": []
  }
 ],
 "metadata": {
  "kernelspec": {
   "display_name": "Python 3",
   "language": "python",
   "name": "python3"
  },
  "language_info": {
   "codemirror_mode": {
    "name": "ipython",
    "version": 3
   },
   "file_extension": ".py",
   "mimetype": "text/x-python",
   "name": "python",
   "nbconvert_exporter": "python",
   "pygments_lexer": "ipython3",
   "version": "3.11.7"
  }
 },
 "nbformat": 4,
 "nbformat_minor": 2
}
