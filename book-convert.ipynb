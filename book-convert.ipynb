{
 "cells": [
  {
   "cell_type": "code",
   "execution_count": 39,
   "metadata": {},
   "outputs": [],
   "source": [
    "import sqlite3\n",
    "import json\n",
    "import datetime\n",
    "import random\n",
    "con = sqlite3.connect('bookings.db')"
   ]
  },
  {
   "cell_type": "code",
   "execution_count": 40,
   "metadata": {},
   "outputs": [],
   "source": [
    "name_dict = {\n",
    "    1 : \"canoe1\",\n",
    "    2 : \"canoe2\",\n",
    "    3 : \"canoe3\",\n",
    "    4 : \"canoe4\",\n",
    "    5 : \"kayak1\",\n",
    "    6 : \"kayak2\",\n",
    "    7 : \"kayak3\",\n",
    "    8 : \"kayak4\",\n",
    "    9 : \"meetingroom\",\n",
    "    10 : \"sup1\",\n",
    "    11 : \"sup2\",\n",
    "    12 : \"hottub\",\n",
    "    13 : \"sauna\",\n",
    "    14 : \"extraseatcanoe1\",\n",
    "    15 : \"extraseatcanoe2\",\n",
    "    16 : \"extraseatcanoe3\",\n",
    "    17 : \"extraseatcanoe4\",\n",
    "}\n",
    "res = con.execute('''\n",
    "SELECT dateFrom, dateTo, username, bookableItem_id, roomNo\n",
    "FROM bookings \n",
    "INNER JOIN pop_users ON bookings.booker_id = pop_users.id\n",
    "WHERE dateFrom > '2024-01-01'\n",
    "''')\n",
    "\n",
    "dict_dump = {}\n",
    "for row in res:\n",
    "    id = random.randint(0, 2**32)\n",
    "    dict_dump[id] = {\n",
    "        \"user\": {\n",
    "            \"username\": row[2],\n",
    "            \"room\": int(row[4].split(\" \")[2])\n",
    "        },\n",
    "        \"resource_name\": name_dict[row[3]],\n",
    "        \"times\": [\n",
    "            datetime.datetime.strptime(row[0], '%Y-%m-%d %H:%M:%S').strftime('%Y-%m-%dT%H:%M:%SZ'),\n",
    "            datetime.datetime.strptime(row[1], '%Y-%m-%d %H:%M:%S').strftime('%Y-%m-%dT%H:%M:%SZ')\n",
    "        ]\n",
    "    }\n",
    "json_out = json.dumps(dict_dump)\n"
   ]
  },
  {
   "cell_type": "code",
   "execution_count": 41,
   "metadata": {},
   "outputs": [],
   "source": [
    "with open('bookings.json', 'w') as f:\n",
    "    f.write(json_out)\n",
    "    "
   ]
  },
  {
   "cell_type": "code",
   "execution_count": null,
   "metadata": {},
   "outputs": [],
   "source": []
  }
 ],
 "metadata": {
  "kernelspec": {
   "display_name": "Python 3",
   "language": "python",
   "name": "python3"
  },
  "language_info": {
   "codemirror_mode": {
    "name": "ipython",
    "version": 3
   },
   "file_extension": ".py",
   "mimetype": "text/x-python",
   "name": "python",
   "nbconvert_exporter": "python",
   "pygments_lexer": "ipython3",
   "version": "3.11.7"
  }
 },
 "nbformat": 4,
 "nbformat_minor": 2
}
